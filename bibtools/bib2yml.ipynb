{
 "cells": [
  {
   "cell_type": "code",
   "execution_count": 1,
   "metadata": {},
   "outputs": [],
   "source": [
    "import bibtexparser"
   ]
  },
  {
   "cell_type": "code",
   "execution_count": 105,
   "metadata": {},
   "outputs": [],
   "source": [
    "import requests\n",
    "import json\n",
    "\n",
    "#https://levelup.gitconnected.com/writing-a-python-reference-web-scraper-with-rapidapi-5e810e0e1d88\n",
    "RAPID_API_KEY = \"d9e421fd33mshbe21a72ba0d3dfep1606ddjsnc9a4db7d1dab\"\n",
    "\n",
    "def create_request_url(title):\n",
    "    q_string = title.replace(' ', '+')\n",
    "    return f\"https://google-search3.p.rapidapi.com/api/v1/search/q={q_string}\"\n",
    "    \n",
    "def get_request_data(i, title):\n",
    "    \"\"\"Retrieves a link for a given title from the references.\n",
    "            \n",
    "            - if no link is found: return 'no link found'\n",
    "            - if error on req:     return 'request failed'\n",
    "    \"\"\"\n",
    "    \n",
    "    headers = {\n",
    "        'x-user-agent': \"desktop\",\n",
    "        'x-proxy-location': \"EU\",\n",
    "        'x-rapidapi-host': \"google-search3.p.rapidapi.com\",\n",
    "        'x-rapidapi-key': RAPID_API_KEY\n",
    "    }\n",
    "    \n",
    "    query_s = create_request_url(title)\n",
    "    \n",
    "    link = \"\"\n",
    "\n",
    "    # if you want a verbose output for each link, uncomment the print statements\n",
    "    # print(f\"Getting link for [{i}]: {title[:20]}...\")\n",
    "    \n",
    "    try:\n",
    "        r = requests.request(\"GET\", query_s, headers=headers)\n",
    "    except ConnectionError:\n",
    "        pass\n",
    "    \n",
    "    #print(query_s)\n",
    "    #print(r)\n",
    "\n",
    "    if r.status_code == 200:\n",
    "        j = json.loads(r.text)\n",
    "        try:\n",
    "            link += j['results'][0]['link']\n",
    "        except:\n",
    "            link += 'no link found'\n",
    "    else:\n",
    "        link += 'request failed'\n",
    "\n",
    "    # print(f\"Done: [{link}]\")\n",
    "\n",
    "    return link,r"
   ]
  },
  {
   "cell_type": "code",
   "execution_count": 156,
   "metadata": {},
   "outputs": [],
   "source": [
    "with open('bib_google.bib') as bibtex_file:\n",
    "    bib_g = bibtexparser.load(bibtex_file).entries\n",
    "\n",
    "with open('bib_orcid.bib') as bibtex_file:\n",
    "    bib_o = bibtexparser.load(bibtex_file).entries"
   ]
  },
  {
   "cell_type": "code",
   "execution_count": 171,
   "metadata": {},
   "outputs": [],
   "source": [
    "#sort google scholar by year\n",
    "years = [ int(paper['year']) for paper in bib_g]\n",
    "bib_g=sorted(bib_g, key=lambda d: int(d['year']),reverse=True) \n"
   ]
  },
  {
   "cell_type": "code",
   "execution_count": 172,
   "metadata": {},
   "outputs": [
    {
     "name": "stdout",
     "output_type": "stream",
     "text": [
      "Processing [0]  An GPU-accelerated particle tracking method for Eulerian--Lagrangian simulations using hardware ray tracing cores......\n",
      "Processing [1]  Digital quantification of fracture in full-scale rock using micro-CT images: A fracturing experiment with N2 and CO2......\n",
      "Processing [2]  Accelerating linear solvers for Stokes problems with C++ metaprogramming......\n",
      "Processing [3]  Viscosity robust weak Galerkin finite element methods for Stokes problems......\n",
      "Processing [4]  Streamline-based simulation of nanoparticle transport in field-scale heterogeneous subsurface systems......\n",
      "Processing [5]  An Open-Source Code for Fluid Flow Simulations in Unconventional Fractured Reservoirs......\n",
      "Processing [6]  Full-Sample X-ray Microcomputed Tomography Analysis of Supercritical CO2 Fracturing in Tight Sandstone: Effect of Stress on Fracture Dynamics......\n",
      "Processing [7]  Advanced modelling with the MATLAB reservoir simulation toolbox......\n",
      "Processing [8]  Implementation of streamline simulation based on finite element method in FEniCS......\n",
      "Processing [9]  Numerical simulation of channel fracturing technology in developing shale gas reservoirs......\n",
      "Processing [10]  Three-Dimensional Projection-Based Embedded Discrete-Fracture Model for Compositional Simulation of Fractured Reservoirs......\n",
      "Processing [11]  MRST-Shale: An Open-Source Framework for Generic Numerical Modeling of Unconventional Shale and Tight Gas Reservoirs......\n",
      "Processing [12]  Iterative coupling algorithms for large multidomain problems with the boundary element method......\n",
      "Processing [13]  Discontinuous Boundary Elements for Fluid Flow Problems in Discrete Fracture Networks......\n",
      "Processing [14]  An embedded grid-free approach for near-wellbore streamline simulation......\n",
      "Processing [15]  Lab testing and finite element method simulation of hole deflector performance for radial jet drilling......\n",
      "Processing [16]  An Embedded Method for Near-Wellbore Streamline Simulation......\n",
      "Processing [17]  Lab-Testing and FEM Simulation of Hole Deflector Performance for Radial Jet Drilling......\n",
      "Processing [18]  Hydraulics calculations and field application of radial jet drilling......\n",
      "Processing [19]  Slotted liner sheathing coiled tubing-a new concept for multilateral jetting in coalbed methane wells and laboratory tests of tubular friction performance......\n"
     ]
    }
   ],
   "source": [
    "yml_string=\"\"\n",
    "for i,paper in enumerate(bib_g):\n",
    "    #print(paper)\n",
    "    print(f\"Processing [{i}]  {paper['title']}......\")\n",
    "    \n",
    "    #search doi from orcid bib\n",
    "    doi = \"NA\"\n",
    "    for orcid in bib_o:\n",
    "        a= paper['title'].lower().strip().split()\n",
    "        b= orcid['title'].lower().strip().split()\n",
    "        similarity = set( a ) & set( b )\n",
    "        if( len(a) - len(similarity) <3 and 'doi' in orcid):\n",
    "            #print(similarity)\n",
    "            doi = orcid['doi']\n",
    "            break\n",
    "    \n",
    "    yml_string+=f\"- authors: \\\"{paper['author']}\\\" \" + \"\\n\"\n",
    "    yml_string+=f\"  title: \\\"{paper['title']}\\\" \" + \"\\n\"\n",
    "    \n",
    "    if('journal' in paper): source = paper['journal']\n",
    "    elif('publisher' in paper): source = paper['publisher']\n",
    "    else: source = \"Preprint\"\n",
    "    yml_string+=f\"  journal: \\\"{source}\\\" \"  + \"\\n\"\n",
    "    yml_string+=f\"  pubdate:\\n\"\n",
    "    yml_string+=f\"    year: {int(paper['year'])}\\n\"\n",
    "\n",
    "    if ('volume' not in paper): paper['volume']=\"10\"\n",
    "    vip = f\"{int(paper['volume'])}\"\n",
    "    if('  pages' in paper): vip+=f\":{paper['pages']}\"\n",
    "    yml_string+=f\"  vip: \\\"{vip}\\\"\\n\"\n",
    "    yml_string+=f\"  doi: {doi}\\n\"\n",
    "    yml_string+=f\"  link:\\n\"\n",
    "    link = f\"http://doi.org/{doi}\"\n",
    "    yml_string+=f\"    url: {link}\\n\" \n",
    "    yml_string+=f\"    display: {source}, {vip}\\n\"\n",
    "\n",
    "    yml_string+=f\"  image: default.png\\n\"\n",
    "    yml_string+=f\"  marked: 0\\n\"\n",
    "    yml_string+=f\"  highlight: 0\\n\"\n",
    "    yml_string+=f\"  news2:\\n\"\n",
    "\n",
    "    yml_string+=f\"\\n\"\n",
    "\n",
    "\n",
    "with open(\"publist.yml\", \"w\") as text_file:\n",
    "    text_file.write(yml_string)"
   ]
  },
  {
   "cell_type": "code",
   "execution_count": 151,
   "metadata": {},
   "outputs": [],
   "source": []
  },
  {
   "cell_type": "code",
   "execution_count": 97,
   "metadata": {},
   "outputs": [
    {
     "data": {
      "text/plain": [
       "{'journal': 'Geosciences',\n",
       " 'title': 'An Open-Source Code for Fluid Flow Simulations in Unconventional Fractured Reservoirs',\n",
       " 'author': 'Bin Wang and Corrado Fidelibus',\n",
       " 'pages': '106',\n",
       " 'number': '2',\n",
       " 'volume': '11',\n",
       " 'publisher': '{MDPI} {AG}',\n",
       " 'month': 'feb',\n",
       " 'year': '2021',\n",
       " 'url': 'https://doi.org/10.3390%2Fgeosciences11020106',\n",
       " 'doi': '10.3390/geosciences11020106',\n",
       " 'ENTRYTYPE': 'article',\n",
       " 'ID': 'Wang_2021'}"
      ]
     },
     "execution_count": 97,
     "metadata": {},
     "output_type": "execute_result"
    }
   ],
   "source": [
    "paper"
   ]
  }
 ],
 "metadata": {
  "interpreter": {
   "hash": "34dfee18d5f4a96df9a8fcc719c91cf50e8ed50de2aa108bf45cd20982063274"
  },
  "kernelspec": {
   "display_name": "Python 3.8.8 64-bit ('base': conda)",
   "language": "python",
   "name": "python3"
  },
  "language_info": {
   "codemirror_mode": {
    "name": "ipython",
    "version": 3
   },
   "file_extension": ".py",
   "mimetype": "text/x-python",
   "name": "python",
   "nbconvert_exporter": "python",
   "pygments_lexer": "ipython3",
   "version": "3.8.8"
  },
  "orig_nbformat": 4
 },
 "nbformat": 4,
 "nbformat_minor": 2
}
